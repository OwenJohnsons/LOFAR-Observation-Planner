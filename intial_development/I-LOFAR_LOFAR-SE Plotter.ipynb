{
 "cells": [
  {
   "cell_type": "code",
   "execution_count": 1,
   "metadata": {},
   "outputs": [],
   "source": [
    "# --- Preamble --- \n",
    "\n",
    "import numpy as np\n",
    "import pandas as pd\n",
    "import astropy\n",
    "import astropy.units as u\n",
    "import astropy.coordinates as coord\n",
    "from astropy.coordinates import SkyCoord, EarthLocation, AltAz, get_sun, get_moon #- for tranformations, takes ref. from simbad.\n",
    "from astropy.time import Time\n",
    "import matplotlib.pyplot as plt\n",
    "\n",
    "\n",
    "#--- plot parameters --- \n",
    "plt.rcParams[\"figure.figsize\"] = (15,10)\n",
    "plt.rc('font', family = 'serif', serif = 'cmr10') \n",
    "plt.rcParams.update({'font.size': 22})\n",
    "plt.rcParams['axes.unicode_minus'] = False\n",
    "plt.rcParams['mathtext.fontset'] = 'stix'\n",
    "plt.rcParams['axes.labelsize'] = 30"
   ]
  },
  {
   "cell_type": "code",
   "execution_count": 7,
   "metadata": {},
   "outputs": [],
   "source": [
    "# --- Station Parameter's --- \n",
    "\n",
    "ILOFAR = EarthLocation(lat = 53.09472*u.deg, lon = -7.921667*u.deg, height = 46*u.m) # - location of LOFAR to calculate Alt/Az (Long/Lat, decs)\n",
    "ONSULA = EarthLocation(lat = 57.3930555556*u.deg, lon = 11.9177777778*u.deg, height = 20*u.m)"
   ]
  },
  {
   "cell_type": "code",
   "execution_count": 16,
   "metadata": {},
   "outputs": [],
   "source": [
    "def setup(timezone, specified_time, timespan, data_csv, observatory, granulation):\n",
    "    '''\n",
    "    timezone - Timezone in which observations will be taking place (i.e. Birr = 0)\n",
    "    specified_time - Desired time of observation. Format: year-month-day hour:min:sec\n",
    "    timespan - Integer input for the number span of hours wished to be observed\n",
    "    data_csv - location of .csv path containing RA and DEC values. \n",
    "    observatory - \n",
    "    granulation - How many points to calculate along target transit path. \n",
    "    '''\n",
    "\n",
    "    # --- Time and Position config --- \n",
    "    \n",
    "    time = Time(specified_time) + timezone*u.hour # - adjusting for a given time zone\n",
    "    print('Observation start time is', time)\n",
    "\n",
    "    timespan = np.linspace(0, timespan, granulation)*u.hour\n",
    "    TIMES = time + timespan \n",
    "    time_frame = AltAz(obstime = TIMES, location = observatory)\n",
    "\n",
    "    # - Sun and Moon Location \n",
    "    sun_altazs = get_sun(TIMES).transform_to(time_frame)\n",
    "    moon_altazs= get_moon(TIMES).transform_to(time_frame)\n",
    "\n",
    "    return time, timespan, sun_altazs, moon_altazs"
   ]
  },
  {
   "cell_type": "code",
   "execution_count": 17,
   "metadata": {},
   "outputs": [
    {
     "name": "stdout",
     "output_type": "stream",
     "text": [
      "Observation start time is 2021-06-23 11:00:00.000\n",
      "Observation start time is 2021-06-23 11:00:00.000\n"
     ]
    }
   ],
   "source": [
    "ILOFAR_setup = setup(0, '2021-6-23 11:00:00', 3, 'data/Simultaneous_SETI_TESS_targets_170621.csv', ILOFAR, 50)\n",
    "ONSULA_setup = setup(0, '2021-6-23 11:00:00', 3, 'data/Simultaneous_SETI_TESS_targets_170621.csv', ONSULA, 50)"
   ]
  },
  {
   "cell_type": "code",
   "execution_count": 21,
   "metadata": {},
   "outputs": [
    {
     "ename": "AttributeError",
     "evalue": "'list' object has no attribute 'transform_to'",
     "output_type": "error",
     "traceback": [
      "\u001b[1;31m---------------------------------------------------------------------------\u001b[0m",
      "\u001b[1;31mAttributeError\u001b[0m                            Traceback (most recent call last)",
      "\u001b[1;32m<ipython-input-21-6f24a3850a9b>\u001b[0m in \u001b[0;36m<module>\u001b[1;34m\u001b[0m\n\u001b[0;32m     11\u001b[0m \u001b[1;33m\u001b[0m\u001b[0m\n\u001b[0;32m     12\u001b[0m \u001b[0mtarget_frame\u001b[0m \u001b[1;33m=\u001b[0m \u001b[0mAltAz\u001b[0m\u001b[1;33m(\u001b[0m\u001b[0mobstime\u001b[0m \u001b[1;33m=\u001b[0m \u001b[0mILOFAR_setup\u001b[0m\u001b[1;33m[\u001b[0m\u001b[1;36m0\u001b[0m\u001b[1;33m]\u001b[0m \u001b[1;33m+\u001b[0m \u001b[0mILOFAR_setup\u001b[0m\u001b[1;33m[\u001b[0m\u001b[1;36m1\u001b[0m\u001b[1;33m]\u001b[0m\u001b[1;33m,\u001b[0m \u001b[0mlocation\u001b[0m \u001b[1;33m=\u001b[0m \u001b[0mILOFAR\u001b[0m\u001b[1;33m)\u001b[0m\u001b[1;33m\u001b[0m\u001b[1;33m\u001b[0m\u001b[0m\n\u001b[1;32m---> 13\u001b[1;33m \u001b[0mtarget_window\u001b[0m \u001b[1;33m=\u001b[0m \u001b[0mtarget_pos\u001b[0m\u001b[1;33m.\u001b[0m\u001b[0mtransform_to\u001b[0m\u001b[1;33m(\u001b[0m\u001b[0mtarget_frame\u001b[0m\u001b[1;33m)\u001b[0m\u001b[1;33m\u001b[0m\u001b[1;33m\u001b[0m\u001b[0m\n\u001b[0m\u001b[0;32m     14\u001b[0m \u001b[0mtarget_altazs_ILOFAR\u001b[0m \u001b[1;33m=\u001b[0m \u001b[0mtarget_pos\u001b[0m\u001b[1;33m.\u001b[0m\u001b[0mtransform_to\u001b[0m\u001b[1;33m(\u001b[0m\u001b[0mtarget_window\u001b[0m\u001b[1;33m)\u001b[0m\u001b[1;33m\u001b[0m\u001b[1;33m\u001b[0m\u001b[0m\n",
      "\u001b[1;31mAttributeError\u001b[0m: 'list' object has no attribute 'transform_to'"
     ]
    }
   ],
   "source": [
    "# --- Data Config --- \n",
    "\n",
    "data_main = pd.read_csv('data/Simultaneous_SETI_TESS_targets_170621.csv') # - loading data from .csv location and printing head\n",
    "\n",
    "# Asks user for desired target. \n",
    "\n",
    "desired_target = common_targets[common_targets['Name'] == 'TIC288185138']\n",
    "target_pos = [desired_target['RA'], desired_target['DEC']]\n",
    "\n",
    "# --- Time and Position config --- \n",
    "    \n",
    "target_frame = AltAz(obstime = ILOFAR_setup[0] + ILOFAR_setup[1], location = ILOFAR)\n",
    "target_window = target_pos.transform_to(target_frame)\n",
    "target_altazs_ILOFAR = target_pos.transform_to(target_window)"
   ]
  }
 ],
 "metadata": {
  "kernelspec": {
   "display_name": "Python 3",
   "language": "python",
   "name": "python3"
  },
  "language_info": {
   "codemirror_mode": {
    "name": "ipython",
    "version": 3
   },
   "file_extension": ".py",
   "mimetype": "text/x-python",
   "name": "python",
   "nbconvert_exporter": "python",
   "pygments_lexer": "ipython3",
   "version": "3.8.5"
  }
 },
 "nbformat": 4,
 "nbformat_minor": 4
}
