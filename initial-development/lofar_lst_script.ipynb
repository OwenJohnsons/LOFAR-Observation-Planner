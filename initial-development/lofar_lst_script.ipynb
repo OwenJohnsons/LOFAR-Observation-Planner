{
 "cells": [
  {
   "cell_type": "code",
   "execution_count": 1,
   "metadata": {},
   "outputs": [],
   "source": [
    "#--- References --- \n",
    "# Intial function designed and implmented by Justine Haupt. https://github.com/jhaupt/Sidereal-Time-Calculator/blob/master/SiderealTimeCalculator.py\n",
    "#http://aa.usno.navy.mil/faq/docs/JD_Formula.php\n",
    "#http://aa.usno.navy.mil/faq/docs/GAST.php and\n",
    "#Only valid for dates between 1901 and 2099. Accurate to within 1.1s.\n",
    "\n",
    "\n",
    "\n",
    "\n",
    "def LST(Long, date):\n",
    "    #Calculate longitude in DegHHMM format for edification of user:\n",
    "    hemisphere = 'W'\n",
    "    if Long > 0:        #if the number is positive it's in the Eastern hemisphere\n",
    "        hemisphere = 'E'\n",
    "    LongDeg = int(Long)\n",
    "    LongMin = (Long - int(Long))*60\n",
    "    LongSec = (LongMin - int(LongMin))*60\n",
    "    LongMin = int(LongMin)\n",
    "    LongSec = int(LongSec)\n",
    "\n",
    "    TD = date #Enter the UTC time and date as MMDDYY HHMM. (UTC = EST+5, EDT+4)\n",
    "\n",
    "    #split TD into individual variables for month, day, etc. and convert to floats:\n",
    "    MM = float(TD[5:7])\n",
    "    DD = float(TD[8:10])\n",
    "    YY = float(TD[0:4])\n",
    "    hh = float(TD[11:13])\n",
    "    mm = float(TD[14:17])\n",
    "\n",
    "    #convert mm to fractional time:\n",
    "    mm = mm/60\n",
    "\n",
    "    #reformat UTC time as fractional hours:\n",
    "    UT = hh+mm\n",
    "\n",
    "    #calculate the Julian date:\n",
    "    JD = (367*YY) - int((7*(YY+int((MM+9)/12)))/4) + int((275*MM)/9) + DD + 1721013.5 + (UT/24)\n",
    "\n",
    "    #calculate the Greenwhich mean sidereal time:\n",
    "    GMST = 18.697374558 + 24.06570982441908*(JD - 2451545)\n",
    "    GMST = GMST % 24    #use modulo operator to convert to 24 hours\n",
    "    GMSTmm = (GMST - int(GMST))*60          #convert fraction hours to minutes\n",
    "    GMSTss = (GMSTmm - int(GMSTmm))*60      #convert fractional minutes to seconds\n",
    "    GMSThh = int(GMST)\n",
    "    GMSTmm = int(GMSTmm)\n",
    "    GMSTss = int(GMSTss)\n",
    "   \n",
    "\n",
    "    #Convert to the local sidereal time by adding the longitude (in hours) from the GMST.\n",
    "    #(Hours = Degrees/15, Degrees = Hours*15)\n",
    "    Long = Long/15      #Convert longitude to hours\n",
    "    LST = GMST+Long     #Fraction LST. If negative we want to add 24...\n",
    "    if LST < 0:\n",
    "        LST = LST +24\n",
    "    LSTmm = (LST - int(LST))*60          #convert fraction hours to minutes\n",
    "    LSTss = (LSTmm - int(LSTmm))*60      #convert fractional minutes to seconds\n",
    "    LSThh = int(LST)\n",
    "    LSTmm = int(LSTmm)\n",
    "    LSTss = int(LSTss)\n",
    "\n",
    "    return LSThh, LSTmm\n",
    "\n",
    "def LST_window(start, end):\n",
    "    ire_st = LST(-7.92153, start); ire_end = LST(-7.92153, end)\n",
    "    swe_st = LST(11.93029, start); swe_end =LST(11.93029, end)\n",
    " \n",
    "    print('\\n LST Window for UTC %s:%s to %s:%s on the %s is:' % (start[11:13], start[14:17], end[11:13], end[14:17], start[0:10]))\n",
    "    print('\\n I-LOFAR: %s:%s-%s:%s' % (ire_st[0], ire_st[1], ire_end[0], ire_end[1]))\n",
    "    print('LOFAR-SE: %s:%s-%s:%s' % (swe_st[0], swe_st[1], swe_end[0], swe_end[1]))\n",
    "    print('\\n LST difference of ~%s minutes between stations' % ((swe_st[0] - ire_st[0])*60 + swe_st[1] - ire_st[1]))"
   ]
  },
  {
   "cell_type": "code",
   "execution_count": 27,
   "metadata": {},
   "outputs": [
    {
     "name": "stdout",
     "output_type": "stream",
     "text": [
      "\n",
      " LST Window for UTC 07:00 to 10:00 on the 2021-07-08 is:\n",
      "\n",
      " I-LOFAR: 1:34-4:34\n",
      "LOFAR-SE: 2:53-5:54\n",
      "\n",
      " LST difference of ~79 minutes between stations\n"
     ]
    }
   ],
   "source": [
    "LST_window('2021-07-08 07:00', '2021-07-08 10:00')"
   ]
  }
 ],
 "metadata": {
  "interpreter": {
   "hash": "ebcd88f939f5142e66d6367d08fe6c9e2ceb0a3b1a744df4ab5fbd90c8c2bfc8"
  },
  "kernelspec": {
   "name": "python3",
   "display_name": "Python 3.8.8 64-bit ('base': conda)"
  },
  "language_info": {
   "codemirror_mode": {
    "name": "ipython",
    "version": 3
   },
   "file_extension": ".py",
   "mimetype": "text/x-python",
   "name": "python",
   "nbconvert_exporter": "python",
   "pygments_lexer": "ipython3",
   "version": "3.8.8"
  }
 },
 "nbformat": 4,
 "nbformat_minor": 2
}