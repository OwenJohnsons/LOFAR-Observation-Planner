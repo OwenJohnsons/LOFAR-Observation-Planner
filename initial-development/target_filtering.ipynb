{
 "metadata": {
  "language_info": {
   "codemirror_mode": {
    "name": "ipython",
    "version": 3
   },
   "file_extension": ".py",
   "mimetype": "text/x-python",
   "name": "python",
   "nbconvert_exporter": "python",
   "pygments_lexer": "ipython3",
   "version": "3.8.8"
  },
  "orig_nbformat": 4,
  "kernelspec": {
   "name": "python3",
   "display_name": "Python 3.8.8 64-bit ('base': conda)"
  },
  "interpreter": {
   "hash": "ebcd88f939f5142e66d6367d08fe6c9e2ceb0a3b1a744df4ab5fbd90c8c2bfc8"
  }
 },
 "nbformat": 4,
 "nbformat_minor": 2,
 "cells": [
  {
   "cell_type": "code",
   "execution_count": 2,
   "metadata": {},
   "outputs": [],
   "source": [
    "# --- Preamble --- \n",
    "\n",
    "import numpy as np\n",
    "import pandas as pd\n",
    "import astropy\n",
    "import astropy.units as u\n",
    "import astropy.coordinates as coord\n",
    "from astropy.coordinates import SkyCoord, EarthLocation, AltAz, get_sun, get_moon #- for tranformations, takes ref. from simbad.\n",
    "from astropy.time import Time\n",
    "import matplotlib.pyplot as plt\n",
    "\n",
    "\n",
    "#--- plot parameters --- \n",
    "plt.rcParams[\"figure.figsize\"] = (15,10)\n",
    "plt.rc('font', family = 'serif', serif = 'cmr10') \n",
    "plt.rcParams.update({'font.size': 22})\n",
    "plt.rcParams['axes.unicode_minus'] = False\n",
    "plt.rcParams['mathtext.fontset'] = 'stix'\n",
    "plt.rcParams['axes.labelsize'] = 30"
   ]
  },
  {
   "cell_type": "code",
   "execution_count": 3,
   "metadata": {},
   "outputs": [],
   "source": [
    "# --- Station Parameter's --- \n",
    "\n",
    "ILOFAR = EarthLocation(lat = 53.09472*u.deg, lon = -7.921667*u.deg, height = 46*u.m) # - location of LOFAR to calculate Alt/Az (Long/Lat, decs)\n",
    "ONSULA = EarthLocation(lat = 57.3930555556*u.deg, lon = 11.9177777778*u.deg, height = 20*u.m)"
   ]
  },
  {
   "source": [
    "### Data Import and Filter \n",
    "\n",
    "    1. First filetering based on the field of view each station and merging common targets in the data set."
   ],
   "cell_type": "markdown",
   "metadata": {}
  },
  {
   "cell_type": "code",
   "execution_count": 6,
   "metadata": {},
   "outputs": [
    {
     "output_type": "stream",
     "name": "stdout",
     "text": [
      "Number of objects that do not meet the criteria of both stations: 0\n             Name         RA        DEC\n36   TIC288185138  14.856097  82.952254\n502  TIC137500798   8.842334  82.927120\n657  TIC159244568  15.145332  82.446925\n768  TIC315755496  20.688758  82.435302\n282  TIC288631580  18.528346  82.305949\nNumber of objects avalible for observation: 839\n"
     ]
    }
   ],
   "source": [
    "# --- Data Config --- \n",
    "\n",
    "data_main = pd.read_csv('data/Simultaneous_SETI_TESS_targets_170621.csv') # - loading data from .csv location and printing head\n",
    "\n",
    "filtered_ILOFAR = data_main[data_main['DEC'] > -7] ; filtered_Onsula = data_main[data_main['DEC'] > -3] \n",
    "common_targets = filtered_ILOFAR.merge(filtered_Onsula, how = 'inner' ,indicator=False)\n",
    "common_targets = common_targets.sort_values(by = 'DEC', ascending = False)\n",
    "\n",
    "print('Number of objects that do not meet the criteria of both stations:', len(data_main['Name']) - len(common_targets))\n",
    "print(common_targets.head())\n",
    "print('Number of objects avalible for observation:',  len(common_targets))\n",
    "\n",
    "targets_RA = common_targets['RA']; target_DEC = common_targets['DEC']\n",
    "\n",
    "target_name = common_targets['Name']\n",
    "\n",
    "# target_frame = AltAz(obstime = setup_data[1] + setup_data[2], location = observatory)\n",
    "# target_window = target_pos.transform_to(target_frame)\n",
    "# target_altazs = target_pos.transform_to(target_window)"
   ]
  }
 ]
}