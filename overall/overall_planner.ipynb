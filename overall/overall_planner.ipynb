{
 "cells": [
  {
   "cell_type": "code",
   "execution_count": 121,
   "metadata": {},
   "outputs": [
    {
     "data": {
      "text/plain": [
       "['lofar_lst.py',\n",
       " '.DS_Store',\n",
       " 'overall_planner.ipynb',\n",
       " '__pycache__',\n",
       " 'obs_table.csv',\n",
       " '.ipynb_checkpoints',\n",
       " 'lofar_planner.py',\n",
       " 'GUI_testing',\n",
       " 'data',\n",
       " 'targets_of_interest.csv']"
      ]
     },
     "execution_count": 121,
     "metadata": {},
     "output_type": "execute_result"
    }
   ],
   "source": [
    "from lofar_lst import *\n",
    "from lofar_planner import *\n",
    "import os \n",
    "from datetime import datetime\n",
    "from datetime import timedelta"
   ]
  },
  {
   "cell_type": "code",
   "execution_count": 5,
   "metadata": {},
   "outputs": [
    {
     "name": "stdout",
     "output_type": "stream",
     "text": [
      "\n",
      " LST Window for UTC 07:00 to 10:00 on the 2022-07-08 is:\n",
      "\n",
      " I-LOFAR: 1:33-4:33\n",
      "LOFAR-SE: 2:52-5:53\n",
      "\n",
      " LST difference of ~79 minutes between stations\n"
     ]
    }
   ],
   "source": [
    "# --- Observation Window UTC --- \n",
    "\n",
    "start = '2022-07-08 07:00'; end = '2022-07-08 10:00'\n",
    "\n",
    "UTC_alpha = 1\n",
    "UTC_beta = 2\n",
    "\n",
    "station_timezone(end, UTC_alpha)\n",
    "LST_window(start, end)"
   ]
  },
  {
   "cell_type": "code",
   "execution_count": 6,
   "metadata": {},
   "outputs": [],
   "source": [
    "def dataframe_formatting(fraction_of_ot): \n",
    "\n",
    "    \"\"\"\n",
    "    Inputs: \n",
    "    fraction_of_ot - filters out the percentage of observing time for that falls under a given requirement e.g. 0.5 = 50%\n",
    "\n",
    "    Outputs: \n",
    "    A csv. with possible targets during the given observation window dictated by the parameters of the 'setup' function. \n",
    "\n",
    "    \"\"\"\n",
    "\n",
    "    combined_targets_dataframe = []\n",
    "    # --- Organising Dataframes --- \n",
    "    combined_targets_dataframe = pd.merge(Station_Alpha[0], Station_Beta[0], on = \"target name\") # -- merges on title column \n",
    "    combined_targets_dataframe = combined_targets_dataframe.rename(columns={\"ever observable_x\": \"Ever Observable(%s)\" % observatory_1.name, \"ever observable_y\": \"Ever Observable(%s)\" % observatory_2.name, \"always observable_x\" : \"Always Observable(%s)\" % observatory_1.name, \"always observable_y\" : \"Always Observable(%s)\" % observatory_2.name, \"fraction of time observable_x\":\"Fraction of observable time (%s)\" % observatory_1.name, \"fraction of time observable_y\":\"Fraction of observable time (%s)\" % observatory_2.name, \"target name\": \"Name\"}) # -- renaming cols. \n",
    "    combined_targets_dataframe = combined_targets_dataframe[combined_targets_dataframe['Ever Observable(%s)' % observatory_1.name] == True]; combined_targets_dataframe = combined_targets_dataframe[combined_targets_dataframe['Ever Observable(%s)' % observatory_2.name] == True] # -- removing targets that can't be observed during the window. \n",
    "    combined_targets_dataframe = combined_targets_dataframe[combined_targets_dataframe['Fraction of observable time (%s)' % observatory_1.name] > fraction_of_ot];  combined_targets_dataframe = combined_targets_dataframe[combined_targets_dataframe['Fraction of observable time (%s)' % observatory_2.name] > fraction_of_ot] \n",
    "    combined_targets_dataframe = pd.merge(combined_targets_dataframe, Station_Beta[3], on = \"Name\") # - merges on target name. \n",
    "    combined_targets_dataframe.sort_values(by = 'RA', ascending = True, inplace = True) # - sorting values by ascending right ascension. \n",
    "\n",
    "    combined_targets_dataframe = combined_targets_dataframe[['Name', 'RA', 'DEC', 'Ever Observable(%s)' % observatory_1.name, 'Always Observable(%s)' % observatory_1.name, 'Ever Observable(%s)' % observatory_2.name, 'Always Observable(%s)' % observatory_2.name, 'Fraction of observable time (%s)' % observatory_1.name , 'Fraction of observable time (%s)' % observatory_2.name]]\n",
    "\n",
    "    print('Number of possible targets:', len(combined_targets_dataframe))\n",
    "    # --- Saving .csv ---\n",
    "    combined_targets_dataframe.to_csv('data/target-lists/combined/Combined-Targets-%s.csv' % (Station_Alpha[2][2:8]), header = True, index  = False)\n",
    "\n",
    "    return(combined_targets_dataframe)"
   ]
  },
  {
   "cell_type": "code",
   "execution_count": 37,
   "metadata": {},
   "outputs": [
    {
     "name": "stdout",
     "output_type": "stream",
     "text": [
      "['2022-07-08 08:00:00.000' '2022-07-08 11:00:00.000']\n",
      "Number of objects that do not meet the criteria of both stations: 273\n",
      "Number of previously observed targets: 24\n",
      "Number of objects avalible for observation: 546\n",
      "['2022-07-08 09:00:00.000' '2022-07-08 12:00:00.000']\n",
      "Number of objects that do not meet the criteria of both stations: 273\n",
      "Number of previously observed targets: 24\n",
      "Number of objects avalible for observation: 546\n",
      "Number of possible targets: 546\n"
     ]
    }
   ],
   "source": [
    "# %%capture\n",
    "\n",
    "Station_Alpha = []\n",
    "Station_Beta = []\n",
    "\n",
    "observatory_1 = ILOFAR\n",
    "observatory_2 = ONSULA\n",
    "catalog = 'targets_of_interest.csv'\n",
    "\n",
    "# --- Computing Dataframes --- \n",
    "Station_Alpha = setup(station_timezone(start, UTC_alpha), station_timezone(end, UTC_alpha), 30, 90, 20, 0.016, observatory_1, catalog, True)\n",
    "Station_Beta  = setup(station_timezone(start, UTC_beta), station_timezone(end, UTC_beta), 30, 90, 20,  0.016, observatory_2, catalog, False)\n",
    "\n",
    "observation_table = dataframe_formatting(0.8)\n",
    "observation_table.to_csv('obs_table.csv')"
   ]
  },
  {
   "cell_type": "code",
   "execution_count": 136,
   "metadata": {},
   "outputs": [],
   "source": [
    "def find_nearest(array, value): # - Function to find the nearest value in a given array. \n",
    "    array = np.asarray(array); idx = (np.abs(array - value)).argmin()\n",
    "    return idx\n",
    "\n",
    "base_lst = 2.5 # - LST that is best suited to both stations, usually half-way between both. \n",
    "target_numbers = 12; step = 0.25 # - The amount of targets to be observed along with the amount of targets \n",
    "idx_array = []\n",
    "\n",
    "for i in range(0, target_numbers): # - Find targets that are visible and avalible at around 15 min intervals in the observation window. \n",
    "    trgt_idx = find_nearest(observation_table['RA'], base_lst)\n",
    "    base_lst += step \n",
    "    if trgt_idx in idx_array: \n",
    "        idx_array.append(trgt_idx + 1)\n",
    "    else: \n",
    "        idx_array.append(trgt_idx)\n",
    "\n",
    "trgt_tbl = observation_table.iloc[idx_array]"
   ]
  },
  {
   "cell_type": "code",
   "execution_count": 132,
   "metadata": {},
   "outputs": [
    {
     "name": "stdout",
     "output_type": "stream",
     "text": [
      "Name Time RA DEC freqrng dur \n",
      "TIC249945230 07:03 0.677366 0.842536 110e6:190.2e6 15m\n",
      "TIC302773669 07:19 0.740658 1.252328 110e6:190.2e6 15m\n",
      "TIC251384275 07:35 0.780515 1.025123 110e6:190.2e6 15m\n",
      "TIC82010657 07:51 0.850903 1.051355 110e6:190.2e6 15m\n",
      "TIC285677945 08:07 0.926752 0.881375 110e6:190.2e6 15m\n",
      "TIC104208182 08:23 0.951242 0.889335 110e6:190.2e6 15m\n",
      "TIC87090944 08:39 1.020784 1.029191 110e6:190.2e6 15m\n",
      "TIC267694283 08:55 1.103572 0.937016 110e6:190.2e6 15m\n",
      "TIC103448870 09:11 1.166491 1.274504 110e6:190.2e6 15m\n",
      "TIC9837861 09:27 1.231305 0.947575 110e6:190.2e6 15m\n",
      "TIC321041369 09:43 1.425429 0.994203 110e6:190.2e6 15m\n",
      "TIC311121985 09:59 1.493675 0.864173 110e6:190.2e6 15m\n"
     ]
    }
   ],
   "source": [
    "ra = (trgt_tbl['RA']).to_list(); dec = (trgt_tbl['DEC']).to_list()\n",
    "trgt_coords = SkyCoord(ra*u.hourangle, dec*u.degree)\n",
    "names = trgt_tbl['Name'].to_list()\n",
    "\n",
    "cur_time = datetime.strptime('07:03', '%H:%M')\n",
    "cur_time_str = cur_time.strftime('%H:%M')\n",
    "trgt_duration = 16 \n",
    "\n",
    "print('Name Time RA DEC freqrng dur ')\n",
    "for i in range(0, len(ra)): \n",
    "    print(names[i], cur_time_str, '{:.6f}'.format(trgt_coords[i].ra.radian), '{:.6f}'.format(trgt_coords[i].dec.radian), '110e6:190.2e6', '15m')\n",
    "    cur_time = cur_time + timedelta(minutes=trgt_duration)\n",
    "    cur_time_str = cur_time.strftime('%H:%M')"
   ]
  }
 ],
 "metadata": {
  "interpreter": {
   "hash": "73df3d2a648ddfe6e132dd0b2981f8c5ee01eb57f65aaa52301d101a94b0ebb5"
  },
  "kernelspec": {
   "display_name": "Python 3.7.11 ('base')",
   "language": "python",
   "name": "python3"
  },
  "language_info": {
   "codemirror_mode": {
    "name": "ipython",
    "version": 3
   },
   "file_extension": ".py",
   "mimetype": "text/x-python",
   "name": "python",
   "nbconvert_exporter": "python",
   "pygments_lexer": "ipython3",
   "version": "3.7.11"
  }
 },
 "nbformat": 4,
 "nbformat_minor": 2
}
