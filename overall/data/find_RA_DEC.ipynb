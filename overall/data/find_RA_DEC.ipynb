{
 "cells": [
  {
   "cell_type": "code",
   "execution_count": 2,
   "metadata": {},
   "outputs": [],
   "source": [
    "import pandas as pd "
   ]
  },
  {
   "cell_type": "code",
   "execution_count": 4,
   "metadata": {},
   "outputs": [
    {
     "data": {
      "text/html": [
       "<div>\n",
       "<style scoped>\n",
       "    .dataframe tbody tr th:only-of-type {\n",
       "        vertical-align: middle;\n",
       "    }\n",
       "\n",
       "    .dataframe tbody tr th {\n",
       "        vertical-align: top;\n",
       "    }\n",
       "\n",
       "    .dataframe thead th {\n",
       "        text-align: right;\n",
       "    }\n",
       "</style>\n",
       "<table border=\"1\" class=\"dataframe\">\n",
       "  <thead>\n",
       "    <tr style=\"text-align: right;\">\n",
       "      <th></th>\n",
       "      <th>Name</th>\n",
       "      <th>RA</th>\n",
       "      <th>DEC</th>\n",
       "      <th>Unnamed: 3</th>\n",
       "    </tr>\n",
       "  </thead>\n",
       "  <tbody>\n",
       "    <tr>\n",
       "      <th>0</th>\n",
       "      <td>Name</td>\n",
       "      <td>RA</td>\n",
       "      <td>DEC</td>\n",
       "      <td>NaN</td>\n",
       "    </tr>\n",
       "    <tr>\n",
       "      <th>1</th>\n",
       "      <td>TIC432549364</td>\n",
       "      <td>0.02414</td>\n",
       "      <td>39.383795</td>\n",
       "      <td>NaN</td>\n",
       "    </tr>\n",
       "    <tr>\n",
       "      <th>2</th>\n",
       "      <td>TIC346929661</td>\n",
       "      <td>0.06517</td>\n",
       "      <td>59.334681</td>\n",
       "      <td>NaN</td>\n",
       "    </tr>\n",
       "    <tr>\n",
       "      <th>3</th>\n",
       "      <td>TIC347013211</td>\n",
       "      <td>0.074617</td>\n",
       "      <td>54.934497</td>\n",
       "      <td>NaN</td>\n",
       "    </tr>\n",
       "    <tr>\n",
       "      <th>4</th>\n",
       "      <td>TIC194203348</td>\n",
       "      <td>0.079788</td>\n",
       "      <td>41.59388</td>\n",
       "      <td>NaN</td>\n",
       "    </tr>\n",
       "  </tbody>\n",
       "</table>\n",
       "</div>"
      ],
      "text/plain": [
       "           Name        RA        DEC  Unnamed: 3\n",
       "0          Name        RA        DEC         NaN\n",
       "1  TIC432549364   0.02414  39.383795         NaN\n",
       "2  TIC346929661   0.06517  59.334681         NaN\n",
       "3  TIC347013211  0.074617  54.934497         NaN\n",
       "4  TIC194203348  0.079788   41.59388         NaN"
      ]
     },
     "execution_count": 4,
     "metadata": {},
     "output_type": "execute_result"
    }
   ],
   "source": [
    "df = pd.read_csv('Simultaneous_SETI_TESS_targets_170621.csv')\n",
    "df.head()"
   ]
  },
  {
   "cell_type": "code",
   "execution_count": 29,
   "metadata": {},
   "outputs": [
    {
     "name": "stdout",
     "output_type": "stream",
     "text": [
      "['Name', 'RA', 'DEC', 'Unnamed: 3',              Name         RA        DEC  Unnamed: 3\n",
      "818  TIC317597583  23.467778  75.552607         NaN,              Name         RA        DEC  Unnamed: 3\n",
      "821  TIC427730490  23.484982  71.506474         NaN,              Name         RA        DEC  Unnamed: 3\n",
      "823  TIC367858035  23.649439  75.685232         NaN,             Name        RA        DEC  Unnamed: 3\n",
      "12  TIC407394748  0.361377  77.880071         NaN,             Name        RA        DEC  Unnamed: 3\n",
      "46  TIC435680451  1.194334  79.165492         NaN,             Name        RA        DEC  Unnamed: 3\n",
      "59  TIC395393265  1.755931  77.790123         NaN,             Name        RA        DEC  Unnamed: 3\n",
      "88  TIC396562848  2.955925  76.551405         NaN,              Name        RA        DEC  Unnamed: 3\n",
      "133  TIC142090065  5.271567  79.737727         NaN,              Name        RA       DEC  Unnamed: 3\n",
      "134  TIC142117976  5.416015  79.74934         NaN,              Name        RA       DEC  Unnamed: 3\n",
      "147  TIC445805961  6.285589  76.21102         NaN,              Name         RA        DEC  Unnamed: 3\n",
      "210  TIC372757221  10.859545  81.322175         NaN,              Name         RA        DEC  Unnamed: 3\n",
      "270  TIC288132261  13.965621  79.583322         NaN,              Name         RA        DEC  Unnamed: 3\n",
      "279  TIC158002130  14.303713  82.193773         NaN,             Name        RA        DEC  Unnamed: 3\n",
      "67  TIC250724252  2.233683  53.121508         NaN,             Name        RA        DEC  Unnamed: 3\n",
      "76  TIC249862365  2.541534  52.704091         NaN,            Name        RA       DEC  Unnamed: 3\n",
      "83  TIC51024887  2.810346  62.18926         NaN,            Name        RA        DEC  Unnamed: 3\n",
      "94  TIC81831095  3.187109  61.762385         NaN,              Name        RA        DEC  Unnamed: 3\n",
      "102  TIC316254876  3.465923  54.865617         NaN,              Name        RA        DEC  Unnamed: 3\n",
      "108  TIC431899140  3.748169  45.507188         NaN,              Name        RA        DEC  Unnamed: 3\n",
      "113  TIC266500992  4.078149  52.256992         NaN,              Name        RA        DEC  Unnamed: 3\n",
      "118  TIC470315428  4.309899  52.865032         NaN,             Name        RA        DEC  Unnamed: 3\n",
      "124  TIC27677846  4.424676  46.365902         NaN,              Name        RA        DEC  Unnamed: 3\n",
      "130  TIC121966220  5.053188  41.785784         NaN,             Name        RA        DEC  Unnamed: 3\n",
      "21  TIC191146556  0.553625  46.340305         NaN]\n"
     ]
    }
   ],
   "source": [
    "obs_mstlist = pd.read_csv('observed_targets_masterlist.csv')\n",
    "obs_mstlist.head()\n",
    "\n",
    "observed_names = obs_mstlist['Name'] \n",
    "\n",
    "# for name in observed_names: print(df[df['Name'] == name])\n",
    "\n",
    "filtered_targets = ['Name', 'RA', 'DEC', 'Unnamed: 3']\n",
    "\n",
    "for i in range(0, len(observed_names)):\n",
    "    filtered_targets.append(df[df['Name'] == observed_names[i]])\n",
    "\n",
    "print(filtered_targets)"
   ]
  }
 ],
 "metadata": {
  "interpreter": {
   "hash": "73df3d2a648ddfe6e132dd0b2981f8c5ee01eb57f65aaa52301d101a94b0ebb5"
  },
  "kernelspec": {
   "display_name": "Python 3.7.11 ('base')",
   "language": "python",
   "name": "python3"
  },
  "language_info": {
   "codemirror_mode": {
    "name": "ipython",
    "version": 3
   },
   "file_extension": ".py",
   "mimetype": "text/x-python",
   "name": "python",
   "nbconvert_exporter": "python",
   "pygments_lexer": "ipython3",
   "version": "3.7.11"
  },
  "orig_nbformat": 4
 },
 "nbformat": 4,
 "nbformat_minor": 2
}
